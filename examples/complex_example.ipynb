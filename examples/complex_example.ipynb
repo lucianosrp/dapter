{
 "cells": [
  {
   "cell_type": "code",
   "execution_count": 1,
   "metadata": {},
   "outputs": [
    {
     "name": "stdout",
     "output_type": "stream",
     "text": [
      "['Transaction ID', 'Date', 'Customer ID', 'Amount', 'Currency', 'Payment Method', 'Status', 'Description']\n",
      "['transaction_id', 'transaction_date', 'customer_id', 'transaction_amount', 'currency_type', 'payment_method', 'transaction_status', 'transaction_description']\n",
      "['ID', 'Date of Transaction', 'Customer #', 'Total Amount', 'Currency Used', 'Payment Type', 'Status of Transaction', 'Notes']\n"
     ]
    }
   ],
   "source": [
    "import polars as pl\n",
    "\n",
    "bank_a = pl.read_csv(\"data/bank_a.csv\")\n",
    "bank_b = pl.read_csv(\"data/bank_b.csv\")\n",
    "bank_c = pl.read_csv(\"data/bank_c.csv\")\n",
    "for bank in (bank_a,bank_b,bank_c):\n",
    "    print(bank.columns)"
   ]
  },
  {
   "cell_type": "code",
   "execution_count": 2,
   "metadata": {},
   "outputs": [],
   "source": [
    "from dapter import BaseMapper, accepts\n",
    "\n",
    "\n",
    "def col_to_date(col: pl.Series):\n",
    "    return col.str.to_datetime(format='%F')\n",
    "\n",
    "def clean_str(col:pl.Series):\n",
    "    return col.str.strip_chars()\n",
    "\n",
    "\n",
    "date_modifier = (\n",
    "    accepts(\"Date\", \"Date of Transaction\", \"transaction_date\"),\n",
    "    col_to_date,\n",
    ")\n",
    "\n",
    "description_modifier = (\n",
    "    accepts(\"transaction_description\",'Description','Notes'),\n",
    "    clean_str\n",
    ")\n",
    "\n",
    "class TransactionMapper(BaseMapper):\n",
    "    transaction_id = accepts(\"ID\", \"Transaction ID\", \"transaction_id\")\n",
    "    date = date_modifier\n",
    "    amount = accepts(\"Amount\", \"Total Amount\", \"transaction_amount\")\n",
    "    currency = accepts(\"Currency\", \"Currency Used\", \"currency_type\")\n",
    "    description  = description_modifier\n",
    "\n",
    "\n",
    "mapper = TransactionMapper()"
   ]
  },
  {
   "cell_type": "code",
   "execution_count": 3,
   "metadata": {},
   "outputs": [
    {
     "data": {
      "text/html": [
       "<div><style>\n",
       ".dataframe > thead > tr,\n",
       ".dataframe > tbody > tr {\n",
       "  text-align: right;\n",
       "  white-space: pre-wrap;\n",
       "}\n",
       "</style>\n",
       "<small>shape: (50, 8)</small><table border=\"1\" class=\"dataframe\"><thead><tr><th>ID</th><th>Date of Transaction</th><th>Customer #</th><th>Total Amount</th><th>Currency Used</th><th>Payment Type</th><th>Status of Transaction</th><th>Notes</th></tr><tr><td>i64</td><td>str</td><td>i64</td><td>f64</td><td>str</td><td>str</td><td>str</td><td>str</td></tr></thead><tbody><tr><td>1</td><td>&quot;2024-08-04&quot;</td><td>1011</td><td>207.34</td><td>&quot;USD&quot;</td><td>&quot;Debit Card&quot;</td><td>&quot;Failed&quot;</td><td>&quot;Coffee Shop&quot;</td></tr><tr><td>2</td><td>&quot;2024-08-14&quot;</td><td>1016</td><td>70.5</td><td>&quot;EUR&quot;</td><td>&quot;PayPal&quot;</td><td>&quot;Completed&quot;</td><td>&quot;Streaming Service&quot;</td></tr><tr><td>3</td><td>&quot;2024-08-05&quot;</td><td>1011</td><td>123.41</td><td>&quot;EUR&quot;</td><td>&quot;PayPal&quot;</td><td>&quot;Pending&quot;</td><td>&quot;Cinema&quot;</td></tr><tr><td>4</td><td>&quot;2024-08-10&quot;</td><td>1024</td><td>103.02</td><td>&quot;USD&quot;</td><td>&quot;Cash&quot;</td><td>&quot;Completed&quot;</td><td>&quot;Furniture Store&quot;</td></tr><tr><td>5</td><td>&quot;2024-08-14&quot;</td><td>1008</td><td>247.21</td><td>&quot;GBP&quot;</td><td>&quot;PayPal&quot;</td><td>&quot;Completed&quot;</td><td>&quot;Car Service&quot;</td></tr><tr><td>&hellip;</td><td>&hellip;</td><td>&hellip;</td><td>&hellip;</td><td>&hellip;</td><td>&hellip;</td><td>&hellip;</td><td>&hellip;</td></tr><tr><td>46</td><td>&quot;2024-08-01&quot;</td><td>1034</td><td>216.32</td><td>&quot;EUR&quot;</td><td>&quot;Debit Card&quot;</td><td>&quot;Pending&quot;</td><td>&quot;Flight Booking&quot;</td></tr><tr><td>47</td><td>&quot;2024-08-10&quot;</td><td>1027</td><td>155.09</td><td>&quot;EUR&quot;</td><td>&quot;Credit Card&quot;</td><td>&quot;Failed&quot;</td><td>&quot;Pet Supplies&quot;</td></tr><tr><td>48</td><td>&quot;2024-08-07&quot;</td><td>1002</td><td>83.03</td><td>&quot;EUR&quot;</td><td>&quot;Debit Card&quot;</td><td>&quot;Failed&quot;</td><td>&quot;Online Auction&quot;</td></tr><tr><td>49</td><td>&quot;2024-08-15&quot;</td><td>1037</td><td>29.84</td><td>&quot;USD&quot;</td><td>&quot;PayPal&quot;</td><td>&quot;Completed&quot;</td><td>&quot;Hotel Reservation&quot;</td></tr><tr><td>50</td><td>&quot;2024-08-09&quot;</td><td>1003</td><td>50.7</td><td>&quot;EUR&quot;</td><td>&quot;Cash&quot;</td><td>&quot;Failed&quot;</td><td>&quot;Charity Donation&quot;</td></tr></tbody></table></div>"
      ],
      "text/plain": [
       "shape: (50, 8)\n",
       "┌─────┬──────────────┬────────────┬────────┬──────────┬──────────────┬──────────────┬──────────────┐\n",
       "│ ID  ┆ Date of      ┆ Customer # ┆ Total  ┆ Currency ┆ Payment Type ┆ Status of    ┆ Notes        │\n",
       "│ --- ┆ Transaction  ┆ ---        ┆ Amount ┆ Used     ┆ ---          ┆ Transaction  ┆ ---          │\n",
       "│ i64 ┆ ---          ┆ i64        ┆ ---    ┆ ---      ┆ str          ┆ ---          ┆ str          │\n",
       "│     ┆ str          ┆            ┆ f64    ┆ str      ┆              ┆ str          ┆              │\n",
       "╞═════╪══════════════╪════════════╪════════╪══════════╪══════════════╪══════════════╪══════════════╡\n",
       "│ 1   ┆ 2024-08-04   ┆ 1011       ┆ 207.34 ┆ USD      ┆ Debit Card   ┆ Failed       ┆ Coffee Shop  │\n",
       "│ 2   ┆ 2024-08-14   ┆ 1016       ┆ 70.5   ┆ EUR      ┆ PayPal       ┆ Completed    ┆ Streaming    │\n",
       "│     ┆              ┆            ┆        ┆          ┆              ┆              ┆ Service      │\n",
       "│ 3   ┆ 2024-08-05   ┆ 1011       ┆ 123.41 ┆ EUR      ┆ PayPal       ┆ Pending      ┆ Cinema       │\n",
       "│ 4   ┆ 2024-08-10   ┆ 1024       ┆ 103.02 ┆ USD      ┆ Cash         ┆ Completed    ┆ Furniture    │\n",
       "│     ┆              ┆            ┆        ┆          ┆              ┆              ┆ Store        │\n",
       "│ 5   ┆ 2024-08-14   ┆ 1008       ┆ 247.21 ┆ GBP      ┆ PayPal       ┆ Completed    ┆ Car Service  │\n",
       "│ …   ┆ …            ┆ …          ┆ …      ┆ …        ┆ …            ┆ …            ┆ …            │\n",
       "│ 46  ┆ 2024-08-01   ┆ 1034       ┆ 216.32 ┆ EUR      ┆ Debit Card   ┆ Pending      ┆ Flight       │\n",
       "│     ┆              ┆            ┆        ┆          ┆              ┆              ┆ Booking      │\n",
       "│ 47  ┆ 2024-08-10   ┆ 1027       ┆ 155.09 ┆ EUR      ┆ Credit Card  ┆ Failed       ┆ Pet Supplies │\n",
       "│ 48  ┆ 2024-08-07   ┆ 1002       ┆ 83.03  ┆ EUR      ┆ Debit Card   ┆ Failed       ┆ Online       │\n",
       "│     ┆              ┆            ┆        ┆          ┆              ┆              ┆ Auction      │\n",
       "│ 49  ┆ 2024-08-15   ┆ 1037       ┆ 29.84  ┆ USD      ┆ PayPal       ┆ Completed    ┆ Hotel        │\n",
       "│     ┆              ┆            ┆        ┆          ┆              ┆              ┆ Reservation  │\n",
       "│ 50  ┆ 2024-08-09   ┆ 1003       ┆ 50.7   ┆ EUR      ┆ Cash         ┆ Failed       ┆ Charity      │\n",
       "│     ┆              ┆            ┆        ┆          ┆              ┆              ┆ Donation     │\n",
       "└─────┴──────────────┴────────────┴────────┴──────────┴──────────────┴──────────────┴──────────────┘"
      ]
     },
     "execution_count": 3,
     "metadata": {},
     "output_type": "execute_result"
    }
   ],
   "source": [
    "bank_c"
   ]
  },
  {
   "cell_type": "code",
   "execution_count": 4,
   "metadata": {},
   "outputs": [
    {
     "data": {
      "text/html": [
       "<div><style>\n",
       ".dataframe > thead > tr,\n",
       ".dataframe > tbody > tr {\n",
       "  text-align: right;\n",
       "  white-space: pre-wrap;\n",
       "}\n",
       "</style>\n",
       "<small>shape: (50, 5)</small><table border=\"1\" class=\"dataframe\"><thead><tr><th>transaction_id</th><th>date</th><th>amount</th><th>currency</th><th>description</th></tr><tr><td>i64</td><td>datetime[μs]</td><td>f64</td><td>str</td><td>str</td></tr></thead><tbody><tr><td>1</td><td>2024-08-04 00:00:00</td><td>207.34</td><td>&quot;USD&quot;</td><td>&quot;Coffee Shop&quot;</td></tr><tr><td>2</td><td>2024-08-14 00:00:00</td><td>70.5</td><td>&quot;EUR&quot;</td><td>&quot;Streaming Service&quot;</td></tr><tr><td>3</td><td>2024-08-05 00:00:00</td><td>123.41</td><td>&quot;EUR&quot;</td><td>&quot;Cinema&quot;</td></tr><tr><td>4</td><td>2024-08-10 00:00:00</td><td>103.02</td><td>&quot;USD&quot;</td><td>&quot;Furniture Store&quot;</td></tr><tr><td>5</td><td>2024-08-14 00:00:00</td><td>247.21</td><td>&quot;GBP&quot;</td><td>&quot;Car Service&quot;</td></tr><tr><td>&hellip;</td><td>&hellip;</td><td>&hellip;</td><td>&hellip;</td><td>&hellip;</td></tr><tr><td>46</td><td>2024-08-01 00:00:00</td><td>216.32</td><td>&quot;EUR&quot;</td><td>&quot;Flight Booking&quot;</td></tr><tr><td>47</td><td>2024-08-10 00:00:00</td><td>155.09</td><td>&quot;EUR&quot;</td><td>&quot;Pet Supplies&quot;</td></tr><tr><td>48</td><td>2024-08-07 00:00:00</td><td>83.03</td><td>&quot;EUR&quot;</td><td>&quot;Online Auction&quot;</td></tr><tr><td>49</td><td>2024-08-15 00:00:00</td><td>29.84</td><td>&quot;USD&quot;</td><td>&quot;Hotel Reservation&quot;</td></tr><tr><td>50</td><td>2024-08-09 00:00:00</td><td>50.7</td><td>&quot;EUR&quot;</td><td>&quot;Charity Donation&quot;</td></tr></tbody></table></div>"
      ],
      "text/plain": [
       "shape: (50, 5)\n",
       "┌────────────────┬─────────────────────┬────────┬──────────┬───────────────────┐\n",
       "│ transaction_id ┆ date                ┆ amount ┆ currency ┆ description       │\n",
       "│ ---            ┆ ---                 ┆ ---    ┆ ---      ┆ ---               │\n",
       "│ i64            ┆ datetime[μs]        ┆ f64    ┆ str      ┆ str               │\n",
       "╞════════════════╪═════════════════════╪════════╪══════════╪═══════════════════╡\n",
       "│ 1              ┆ 2024-08-04 00:00:00 ┆ 207.34 ┆ USD      ┆ Coffee Shop       │\n",
       "│ 2              ┆ 2024-08-14 00:00:00 ┆ 70.5   ┆ EUR      ┆ Streaming Service │\n",
       "│ 3              ┆ 2024-08-05 00:00:00 ┆ 123.41 ┆ EUR      ┆ Cinema            │\n",
       "│ 4              ┆ 2024-08-10 00:00:00 ┆ 103.02 ┆ USD      ┆ Furniture Store   │\n",
       "│ 5              ┆ 2024-08-14 00:00:00 ┆ 247.21 ┆ GBP      ┆ Car Service       │\n",
       "│ …              ┆ …                   ┆ …      ┆ …        ┆ …                 │\n",
       "│ 46             ┆ 2024-08-01 00:00:00 ┆ 216.32 ┆ EUR      ┆ Flight Booking    │\n",
       "│ 47             ┆ 2024-08-10 00:00:00 ┆ 155.09 ┆ EUR      ┆ Pet Supplies      │\n",
       "│ 48             ┆ 2024-08-07 00:00:00 ┆ 83.03  ┆ EUR      ┆ Online Auction    │\n",
       "│ 49             ┆ 2024-08-15 00:00:00 ┆ 29.84  ┆ USD      ┆ Hotel Reservation │\n",
       "│ 50             ┆ 2024-08-09 00:00:00 ┆ 50.7   ┆ EUR      ┆ Charity Donation  │\n",
       "└────────────────┴─────────────────────┴────────┴──────────┴───────────────────┘"
      ]
     },
     "execution_count": 4,
     "metadata": {},
     "output_type": "execute_result"
    }
   ],
   "source": [
    "mapper.apply(bank_c)"
   ]
  }
 ],
 "metadata": {
  "kernelspec": {
   "display_name": ".venv",
   "language": "python",
   "name": "python3"
  },
  "language_info": {
   "codemirror_mode": {
    "name": "ipython",
    "version": 3
   },
   "file_extension": ".py",
   "mimetype": "text/x-python",
   "name": "python",
   "nbconvert_exporter": "python",
   "pygments_lexer": "ipython3",
   "version": "3.12.2"
  }
 },
 "nbformat": 4,
 "nbformat_minor": 2
}
