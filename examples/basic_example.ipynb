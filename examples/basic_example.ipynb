{
 "cells": [
  {
   "cell_type": "code",
   "execution_count": 1,
   "metadata": {},
   "outputs": [],
   "source": [
    "import pandas as pd\n",
    "import polars as pl\n",
    "\n",
    "df1 = pl.DataFrame(\n",
    "    [\n",
    "        {\n",
    "            \"Date\": \"2023-02-01 10:00:01\",\n",
    "            \"Vendor Name\": \"Golden Oil LLC\",\n",
    "            \"Amount USD\": 49.99,\n",
    "            \"Category\": \"Personal\",\n",
    "        }\n",
    "    ]\n",
    ")\n",
    "\n",
    "df2 = pl.DataFrame(\n",
    "    [\n",
    "        {\n",
    "            \"transaction_date\": \"2023-03-01 10:00:01\",\n",
    "            \"vendor_name\": \"Get Cars Inc.\",\n",
    "            \"amount_usd\": 2000,\n",
    "            \"category\": \"Transportation\",\n",
    "        }\n",
    "    ]\n",
    ")\n",
    "df3 = pl.DataFrame(\n",
    "    [\n",
    "        {\n",
    "            \"DATE\": \"2023-04-01 10:00:01\",\n",
    "            \"VENDOR_NAME\": \"Maintainers Exc.\",\n",
    "            \"USD\": 5249.0,\n",
    "            \"CAT\": \"Personal\",\n",
    "            \"foo\": \"Personal\",\n",
    "        }\n",
    "    ]\n",
    ")"
   ]
  },
  {
   "cell_type": "code",
   "execution_count": 2,
   "metadata": {},
   "outputs": [
    {
     "data": {
      "text/html": [
       "<div><style>\n",
       ".dataframe > thead > tr,\n",
       ".dataframe > tbody > tr {\n",
       "  text-align: right;\n",
       "  white-space: pre-wrap;\n",
       "}\n",
       "</style>\n",
       "<small>shape: (1, 4)</small><table border=\"1\" class=\"dataframe\"><thead><tr><th>Date</th><th>Vendor Name</th><th>Amount USD</th><th>Category</th></tr><tr><td>str</td><td>str</td><td>f64</td><td>str</td></tr></thead><tbody><tr><td>&quot;2023-02-01 10:00:01&quot;</td><td>&quot;Golden Oil LLC&quot;</td><td>49.99</td><td>&quot;Personal&quot;</td></tr></tbody></table></div>"
      ],
      "text/plain": [
       "shape: (1, 4)\n",
       "┌─────────────────────┬────────────────┬────────────┬──────────┐\n",
       "│ Date                ┆ Vendor Name    ┆ Amount USD ┆ Category │\n",
       "│ ---                 ┆ ---            ┆ ---        ┆ ---      │\n",
       "│ str                 ┆ str            ┆ f64        ┆ str      │\n",
       "╞═════════════════════╪════════════════╪════════════╪══════════╡\n",
       "│ 2023-02-01 10:00:01 ┆ Golden Oil LLC ┆ 49.99      ┆ Personal │\n",
       "└─────────────────────┴────────────────┴────────────┴──────────┘"
      ]
     },
     "execution_count": 2,
     "metadata": {},
     "output_type": "execute_result"
    }
   ],
   "source": [
    "df1"
   ]
  },
  {
   "cell_type": "code",
   "execution_count": 3,
   "metadata": {},
   "outputs": [
    {
     "data": {
      "text/html": [
       "<div><style>\n",
       ".dataframe > thead > tr,\n",
       ".dataframe > tbody > tr {\n",
       "  text-align: right;\n",
       "  white-space: pre-wrap;\n",
       "}\n",
       "</style>\n",
       "<small>shape: (1, 4)</small><table border=\"1\" class=\"dataframe\"><thead><tr><th>transaction_date</th><th>vendor_name</th><th>amount_usd</th><th>category</th></tr><tr><td>str</td><td>str</td><td>i64</td><td>str</td></tr></thead><tbody><tr><td>&quot;2023-03-01 10:00:01&quot;</td><td>&quot;Get Cars Inc.&quot;</td><td>2000</td><td>&quot;Transportation&quot;</td></tr></tbody></table></div>"
      ],
      "text/plain": [
       "shape: (1, 4)\n",
       "┌─────────────────────┬───────────────┬────────────┬────────────────┐\n",
       "│ transaction_date    ┆ vendor_name   ┆ amount_usd ┆ category       │\n",
       "│ ---                 ┆ ---           ┆ ---        ┆ ---            │\n",
       "│ str                 ┆ str           ┆ i64        ┆ str            │\n",
       "╞═════════════════════╪═══════════════╪════════════╪════════════════╡\n",
       "│ 2023-03-01 10:00:01 ┆ Get Cars Inc. ┆ 2000       ┆ Transportation │\n",
       "└─────────────────────┴───────────────┴────────────┴────────────────┘"
      ]
     },
     "execution_count": 3,
     "metadata": {},
     "output_type": "execute_result"
    }
   ],
   "source": [
    "df2"
   ]
  },
  {
   "cell_type": "code",
   "execution_count": 4,
   "metadata": {},
   "outputs": [
    {
     "data": {
      "text/html": [
       "<div><style>\n",
       ".dataframe > thead > tr,\n",
       ".dataframe > tbody > tr {\n",
       "  text-align: right;\n",
       "  white-space: pre-wrap;\n",
       "}\n",
       "</style>\n",
       "<small>shape: (1, 5)</small><table border=\"1\" class=\"dataframe\"><thead><tr><th>DATE</th><th>VENDOR_NAME</th><th>USD</th><th>CAT</th><th>foo</th></tr><tr><td>str</td><td>str</td><td>f64</td><td>str</td><td>str</td></tr></thead><tbody><tr><td>&quot;2023-04-01 10:00:01&quot;</td><td>&quot;Maintainers Exc.&quot;</td><td>5249.0</td><td>&quot;Personal&quot;</td><td>&quot;Personal&quot;</td></tr></tbody></table></div>"
      ],
      "text/plain": [
       "shape: (1, 5)\n",
       "┌─────────────────────┬──────────────────┬────────┬──────────┬──────────┐\n",
       "│ DATE                ┆ VENDOR_NAME      ┆ USD    ┆ CAT      ┆ foo      │\n",
       "│ ---                 ┆ ---              ┆ ---    ┆ ---      ┆ ---      │\n",
       "│ str                 ┆ str              ┆ f64    ┆ str      ┆ str      │\n",
       "╞═════════════════════╪══════════════════╪════════╪══════════╪══════════╡\n",
       "│ 2023-04-01 10:00:01 ┆ Maintainers Exc. ┆ 5249.0 ┆ Personal ┆ Personal │\n",
       "└─────────────────────┴──────────────────┴────────┴──────────┴──────────┘"
      ]
     },
     "execution_count": 4,
     "metadata": {},
     "output_type": "execute_result"
    }
   ],
   "source": [
    "df3"
   ]
  },
  {
   "cell_type": "code",
   "execution_count": 5,
   "metadata": {},
   "outputs": [
    {
     "data": {
      "text/html": [
       "<div><style>\n",
       ".dataframe > thead > tr,\n",
       ".dataframe > tbody > tr {\n",
       "  text-align: right;\n",
       "  white-space: pre-wrap;\n",
       "}\n",
       "</style>\n",
       "<small>shape: (3, 4)</small><table border=\"1\" class=\"dataframe\"><thead><tr><th>transaction_date</th><th>vendor_name</th><th>amount_eur</th><th>category</th></tr><tr><td>str</td><td>str</td><td>f64</td><td>str</td></tr></thead><tbody><tr><td>&quot;2023-02-01 10:00:01&quot;</td><td>&quot;Golden Oil LLC&quot;</td><td>45.9908</td><td>&quot;Personal&quot;</td></tr><tr><td>&quot;2023-03-01 10:00:01&quot;</td><td>&quot;Get Cars Inc.&quot;</td><td>1840.0</td><td>&quot;Transportation&quot;</td></tr><tr><td>&quot;2023-04-01 10:00:01&quot;</td><td>&quot;Maintainers Exc.&quot;</td><td>4829.08</td><td>&quot;Personal&quot;</td></tr></tbody></table></div>"
      ],
      "text/plain": [
       "shape: (3, 4)\n",
       "┌─────────────────────┬──────────────────┬────────────┬────────────────┐\n",
       "│ transaction_date    ┆ vendor_name      ┆ amount_eur ┆ category       │\n",
       "│ ---                 ┆ ---              ┆ ---        ┆ ---            │\n",
       "│ str                 ┆ str              ┆ f64        ┆ str            │\n",
       "╞═════════════════════╪══════════════════╪════════════╪════════════════╡\n",
       "│ 2023-02-01 10:00:01 ┆ Golden Oil LLC   ┆ 45.9908    ┆ Personal       │\n",
       "│ 2023-03-01 10:00:01 ┆ Get Cars Inc.    ┆ 1840.0     ┆ Transportation │\n",
       "│ 2023-04-01 10:00:01 ┆ Maintainers Exc. ┆ 4829.08    ┆ Personal       │\n",
       "└─────────────────────┴──────────────────┴────────────┴────────────────┘"
      ]
     },
     "execution_count": 5,
     "metadata": {},
     "output_type": "execute_result"
    }
   ],
   "source": [
    "from dapter import BaseMapper, accepts, accepts_anycases\n",
    "\n",
    "\n",
    "def convert_to_eur(col: pd.Series) -> pd.Series:\n",
    "    return col * 0.92\n",
    "\n",
    "\n",
    "class TransactionMapper(BaseMapper):\n",
    "    transaction_date = accepts(\"transaction_date\", \"Date\", \"DATE\")\n",
    "    vendor_name = accepts_anycases()\n",
    "    amount_eur = (accepts(\"Amount USD\", \"amount_usd\", \"USD\"), convert_to_eur)\n",
    "    category = accepts(\"Category\", \"category\", \"CAT\")\n",
    "\n",
    "\n",
    "mapper = TransactionMapper()\n",
    "\n",
    "dfs = mapper.apply(df1, df2, df3)\n",
    "df = pl.concat(dfs)\n",
    "df"
   ]
  }
 ],
 "metadata": {
  "kernelspec": {
   "display_name": ".venv",
   "language": "python",
   "name": "python3"
  },
  "language_info": {
   "codemirror_mode": {
    "name": "ipython",
    "version": 3
   },
   "file_extension": ".py",
   "mimetype": "text/x-python",
   "name": "python",
   "nbconvert_exporter": "python",
   "pygments_lexer": "ipython3",
   "version": "3.12.2"
  }
 },
 "nbformat": 4,
 "nbformat_minor": 2
}
